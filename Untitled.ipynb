{
 "cells": [
  {
   "cell_type": "code",
   "execution_count": 25,
   "metadata": {},
   "outputs": [],
   "source": [
    "import os\n",
    "import io\n",
    "import csv\n",
    "import numpy as np\n",
    "import pandas as pd"
   ]
  },
  {
   "cell_type": "code",
   "execution_count": 24,
   "metadata": {},
   "outputs": [
    {
     "name": "stdout",
     "output_type": "stream",
     "text": [
      "starting on IRAhandle_tweets_1.csv\n",
      "39.62% of tweets contain hashtags\n",
      "\n",
      "starting on IRAhandle_tweets_2.csv\n",
      "38.29% of tweets contain hashtags\n",
      "\n",
      "starting on IRAhandle_tweets_3.csv\n",
      "28.72% of tweets contain hashtags\n",
      "\n",
      "starting on IRAhandle_tweets_4.csv\n",
      "37.34% of tweets contain hashtags\n",
      "\n",
      "starting on IRAhandle_tweets_5.csv\n",
      "37.06% of tweets contain hashtags\n",
      "\n",
      "starting on IRAhandle_tweets_6.csv\n",
      "29.62% of tweets contain hashtags\n",
      "\n",
      "starting on IRAhandle_tweets_7.csv\n",
      "53.60% of tweets contain hashtags\n",
      "\n",
      "starting on IRAhandle_tweets_8.csv\n",
      "42.92% of tweets contain hashtags\n",
      "\n",
      "starting on IRAhandle_tweets_9.csv\n",
      "22.65% of tweets contain hashtags\n",
      "\n"
     ]
    }
   ],
   "source": [
    "fns = [f for f in os.listdir() if f.startswith('IRAhandle')]\n",
    "count = {}\n",
    "total = {}\n",
    "for ix, fn in enumerate(fns):\n",
    "    count[str(ix+1)] = 0\n",
    "    total[str(ix+1)] = 0\n",
    "    with open(fn, \"r\") as f:\n",
    "        print('starting on {}'.format(fn))\n",
    "        reader = csv.reader(f, delimiter=\"\\t\")\n",
    "        for i, line in enumerate(reader):\n",
    "            total[str(ix+1)] += 1\n",
    "            if '#' in line[0]:\n",
    "                count[str(ix+1)] += 1\n",
    "    print('{0:2.2f}% of tweets contain hashtags\\n'.format(100*float(count[str(ix+1)]/total[str(ix+1)])))\n",
    "    "
   ]
  },
  {
   "cell_type": "code",
   "execution_count": 26,
   "metadata": {},
   "outputs": [],
   "source": [
    "frames = [pd.read_csv(fn, index_col=False) for fn in fns]\n",
    "df = pd.concat(frames)"
   ]
  },
  {
   "cell_type": "code",
   "execution_count": 27,
   "metadata": {},
   "outputs": [
    {
     "data": {
      "text/plain": [
       "(2973371, 15)"
      ]
     },
     "execution_count": 27,
     "metadata": {},
     "output_type": "execute_result"
    }
   ],
   "source": [
    "df.shape"
   ]
  },
  {
   "cell_type": "code",
   "execution_count": 29,
   "metadata": {},
   "outputs": [
    {
     "data": {
      "text/html": [
       "<div>\n",
       "<style scoped>\n",
       "    .dataframe tbody tr th:only-of-type {\n",
       "        vertical-align: middle;\n",
       "    }\n",
       "\n",
       "    .dataframe tbody tr th {\n",
       "        vertical-align: top;\n",
       "    }\n",
       "\n",
       "    .dataframe thead th {\n",
       "        text-align: right;\n",
       "    }\n",
       "</style>\n",
       "<table border=\"1\" class=\"dataframe\">\n",
       "  <thead>\n",
       "    <tr style=\"text-align: right;\">\n",
       "      <th></th>\n",
       "      <th>external_author_id</th>\n",
       "      <th>author</th>\n",
       "      <th>content</th>\n",
       "      <th>region</th>\n",
       "      <th>language</th>\n",
       "      <th>publish_date</th>\n",
       "      <th>harvested_date</th>\n",
       "      <th>following</th>\n",
       "      <th>followers</th>\n",
       "      <th>updates</th>\n",
       "      <th>post_type</th>\n",
       "      <th>account_type</th>\n",
       "      <th>new_june_2018</th>\n",
       "      <th>retweet</th>\n",
       "      <th>account_category</th>\n",
       "    </tr>\n",
       "  </thead>\n",
       "  <tbody>\n",
       "    <tr>\n",
       "      <th>0</th>\n",
       "      <td>9.060000e+17</td>\n",
       "      <td>10_GOP</td>\n",
       "      <td>\"We have a sitting Democrat US Senator on tria...</td>\n",
       "      <td>Unknown</td>\n",
       "      <td>English</td>\n",
       "      <td>10/1/2017 19:58</td>\n",
       "      <td>10/1/2017 19:59</td>\n",
       "      <td>1052</td>\n",
       "      <td>9636</td>\n",
       "      <td>253</td>\n",
       "      <td>NaN</td>\n",
       "      <td>Right</td>\n",
       "      <td>0</td>\n",
       "      <td>0</td>\n",
       "      <td>RightTroll</td>\n",
       "    </tr>\n",
       "  </tbody>\n",
       "</table>\n",
       "</div>"
      ],
      "text/plain": [
       "   external_author_id  author  \\\n",
       "0        9.060000e+17  10_GOP   \n",
       "\n",
       "                                             content   region language  \\\n",
       "0  \"We have a sitting Democrat US Senator on tria...  Unknown  English   \n",
       "\n",
       "      publish_date   harvested_date  following  followers  updates post_type  \\\n",
       "0  10/1/2017 19:58  10/1/2017 19:59       1052       9636      253       NaN   \n",
       "\n",
       "  account_type  new_june_2018  retweet account_category  \n",
       "0        Right              0        0       RightTroll  "
      ]
     },
     "execution_count": 29,
     "metadata": {},
     "output_type": "execute_result"
    }
   ],
   "source": [
    "df.head(1)"
   ]
  },
  {
   "cell_type": "code",
   "execution_count": 35,
   "metadata": {},
   "outputs": [],
   "source": [
    "content = df.content.tolist()"
   ]
  },
  {
   "cell_type": "code",
   "execution_count": 36,
   "metadata": {},
   "outputs": [],
   "source": [
    "import re"
   ]
  },
  {
   "cell_type": "code",
   "execution_count": 63,
   "metadata": {},
   "outputs": [],
   "source": [
    "regex_str = [\n",
    "    r'<[^>]+>', # HTML tags\n",
    "    r'(?:@[\\w_]+)', # @-mentions\n",
    "    r\"(?:\\#+[\\w_]+[\\w\\'_\\-]*[\\w_]+)\", # hash-tags\n",
    "    r'http[s]?://(?:[a-z]|[0-9]|[$-_@.&+]|[!*\\(\\),]|(?:%[0-9a-f][0-9a-f]))+', # URLs\n",
    " \n",
    "    r'(?:(?:\\d+,?)+(?:\\.?\\d+)?)', # numbers\n",
    "    r\"(?:[a-z][a-z'\\-_]+[a-z])\", # words with - and '\n",
    "    r'(?:[\\w_]+)', # other words\n",
    "    r'(?:\\S)+' # anything else\n",
    "]\n",
    "\n",
    "tokens_re = re.compile(r'('+'|'.join(regex_str)+')', re.VERBOSE | re.IGNORECASE)\n",
    "\n",
    "def tokenize(s):\n",
    "    return tokens_re.findall(s)\n",
    "\n",
    "def preprocess(s, lowercase=True):\n",
    "    tokens = tokenize(s)\n",
    "    tokens = [token.lower() for token in tokens]\n",
    "\n",
    "    html_regex = re.compile('<[^>]+>')\n",
    "    tokens = [token for token in tokens if not html_regex.match(token)]\n",
    "\n",
    "#     mention_regex = re.compile('(?:@[\\w_]+)')\n",
    "#     tokens = ['@user' if mention_regex.match(token) else token for token in tokens]\n",
    "\n",
    "    url_regex = re.compile('http[s]?://(?:[a-z]|[0-9]|[$-_@.&+]|[!*\\(\\),]|(?:%[0-9a-f][0-9a-f]))+')\n",
    "    tokens = ['!url' if url_regex.match(token) else token for token in tokens]\n",
    "\n",
    "#     hashtag_regex = re.compile(\"(?:\\#+[\\w_]+[\\w\\'_\\-]*[\\w_]+)\")\n",
    "#     tokens = ['' if hashtag_regex.match(token) else token for token in tokens]\n",
    "    flag = False\n",
    "    for item in tokens:\n",
    "        if item=='rt':\n",
    "            flag = True\n",
    "            continue\n",
    "        if flag and item=='@user':\n",
    "            return ''\n",
    "        else:\n",
    "            flag = False\n",
    "\n",
    "    return ' '.join([t for t in tokens if t]).replace('rt @user : ','')"
   ]
  },
  {
   "cell_type": "code",
   "execution_count": 64,
   "metadata": {},
   "outputs": [
    {
     "name": "stdout",
     "output_type": "stream",
     "text": [
      "\"we have a sitting democrat us senator on trial for corruption and you've barely heard a peep from the mainstream media .\" ~ @nedryun !url\n"
     ]
    }
   ],
   "source": [
    "s = content[0]\n",
    "print(preprocess(s))"
   ]
  },
  {
   "cell_type": "code",
   "execution_count": 71,
   "metadata": {},
   "outputs": [],
   "source": [
    "outfile = 'tweet_tokens.txt'\n",
    "with io.open(outfile, 'w') as tweet_processed_text:\n",
    "    for ix, line in enumerate(content):\n",
    "        try:\n",
    "            tweet_processed_text.write(preprocess(line.rstrip())+'\\n')\n",
    "        except:\n",
    "            tweet_processed_text.write(preprocess('unk')+'\\n')"
   ]
  },
  {
   "cell_type": "code",
   "execution_count": 72,
   "metadata": {},
   "outputs": [
    {
     "data": {
      "text/html": [
       "<div>\n",
       "<style scoped>\n",
       "    .dataframe tbody tr th:only-of-type {\n",
       "        vertical-align: middle;\n",
       "    }\n",
       "\n",
       "    .dataframe tbody tr th {\n",
       "        vertical-align: top;\n",
       "    }\n",
       "\n",
       "    .dataframe thead th {\n",
       "        text-align: right;\n",
       "    }\n",
       "</style>\n",
       "<table border=\"1\" class=\"dataframe\">\n",
       "  <thead>\n",
       "    <tr style=\"text-align: right;\">\n",
       "      <th></th>\n",
       "      <th>external_author_id</th>\n",
       "      <th>author</th>\n",
       "      <th>content</th>\n",
       "      <th>region</th>\n",
       "      <th>language</th>\n",
       "      <th>publish_date</th>\n",
       "      <th>harvested_date</th>\n",
       "      <th>following</th>\n",
       "      <th>followers</th>\n",
       "      <th>updates</th>\n",
       "      <th>post_type</th>\n",
       "      <th>account_type</th>\n",
       "      <th>new_june_2018</th>\n",
       "      <th>retweet</th>\n",
       "      <th>account_category</th>\n",
       "    </tr>\n",
       "  </thead>\n",
       "  <tbody>\n",
       "    <tr>\n",
       "      <th>0</th>\n",
       "      <td>9.060000e+17</td>\n",
       "      <td>10_GOP</td>\n",
       "      <td>\"We have a sitting Democrat US Senator on tria...</td>\n",
       "      <td>Unknown</td>\n",
       "      <td>English</td>\n",
       "      <td>10/1/2017 19:58</td>\n",
       "      <td>10/1/2017 19:59</td>\n",
       "      <td>1052</td>\n",
       "      <td>9636</td>\n",
       "      <td>253</td>\n",
       "      <td>NaN</td>\n",
       "      <td>Right</td>\n",
       "      <td>0</td>\n",
       "      <td>0</td>\n",
       "      <td>RightTroll</td>\n",
       "    </tr>\n",
       "    <tr>\n",
       "      <th>1</th>\n",
       "      <td>9.060000e+17</td>\n",
       "      <td>10_GOP</td>\n",
       "      <td>Marshawn Lynch arrives to game in anti-Trump s...</td>\n",
       "      <td>Unknown</td>\n",
       "      <td>English</td>\n",
       "      <td>10/1/2017 22:43</td>\n",
       "      <td>10/1/2017 22:43</td>\n",
       "      <td>1054</td>\n",
       "      <td>9637</td>\n",
       "      <td>254</td>\n",
       "      <td>NaN</td>\n",
       "      <td>Right</td>\n",
       "      <td>0</td>\n",
       "      <td>0</td>\n",
       "      <td>RightTroll</td>\n",
       "    </tr>\n",
       "  </tbody>\n",
       "</table>\n",
       "</div>"
      ],
      "text/plain": [
       "   external_author_id  author  \\\n",
       "0        9.060000e+17  10_GOP   \n",
       "1        9.060000e+17  10_GOP   \n",
       "\n",
       "                                             content   region language  \\\n",
       "0  \"We have a sitting Democrat US Senator on tria...  Unknown  English   \n",
       "1  Marshawn Lynch arrives to game in anti-Trump s...  Unknown  English   \n",
       "\n",
       "      publish_date   harvested_date  following  followers  updates post_type  \\\n",
       "0  10/1/2017 19:58  10/1/2017 19:59       1052       9636      253       NaN   \n",
       "1  10/1/2017 22:43  10/1/2017 22:43       1054       9637      254       NaN   \n",
       "\n",
       "  account_type  new_june_2018  retweet account_category  \n",
       "0        Right              0        0       RightTroll  \n",
       "1        Right              0        0       RightTroll  "
      ]
     },
     "execution_count": 72,
     "metadata": {},
     "output_type": "execute_result"
    }
   ],
   "source": [
    "df.head(2)"
   ]
  },
  {
   "cell_type": "code",
   "execution_count": 73,
   "metadata": {},
   "outputs": [
    {
     "data": {
      "text/plain": [
       "array([nan, 'RETWEET', 'QUOTE_TWEET'], dtype=object)"
      ]
     },
     "execution_count": 73,
     "metadata": {},
     "output_type": "execute_result"
    }
   ],
   "source": [
    "df.post_type.unique()"
   ]
  },
  {
   "cell_type": "code",
   "execution_count": 74,
   "metadata": {},
   "outputs": [
    {
     "data": {
      "text/plain": [
       "array(['Right', 'Russian', 'Koch', 'Italian', 'left', '?', 'German',\n",
       "       'Spanish', 'Hashtager', 'Arabic', 'local', 'Commercial', 'French',\n",
       "       'Ukranian', 'ZAPOROSHIA', 'news', 'right', 'Uzbek', 'Ebola ', nan,\n",
       "       'Portuguese'], dtype=object)"
      ]
     },
     "execution_count": 74,
     "metadata": {},
     "output_type": "execute_result"
    }
   ],
   "source": [
    "df.account_type.unique()"
   ]
  },
  {
   "cell_type": "code",
   "execution_count": 75,
   "metadata": {},
   "outputs": [
    {
     "data": {
      "text/plain": [
       "array([0, 1])"
      ]
     },
     "execution_count": 75,
     "metadata": {},
     "output_type": "execute_result"
    }
   ],
   "source": [
    "df.retweet.unique()"
   ]
  },
  {
   "cell_type": "code",
   "execution_count": 76,
   "metadata": {},
   "outputs": [
    {
     "data": {
      "text/plain": [
       "array(['RightTroll', 'NonEnglish', 'Fearmonger', 'LeftTroll', 'Unknown',\n",
       "       'HashtagGamer', 'NewsFeed', 'Commercial'], dtype=object)"
      ]
     },
     "execution_count": 76,
     "metadata": {},
     "output_type": "execute_result"
    }
   ],
   "source": [
    "df.account_category.unique()"
   ]
  },
  {
   "cell_type": "code",
   "execution_count": 78,
   "metadata": {},
   "outputs": [
    {
     "data": {
      "text/plain": [
       "array(['English', 'Russian', 'Serbian', 'Ukrainian', 'Tagalog (Filipino)',\n",
       "       'Albanian', 'Italian', 'Romanian', 'Spanish', 'Catalan', 'German',\n",
       "       'Estonian', 'French', 'Norwegian', 'Vietnamese', 'Dutch', 'Arabic',\n",
       "       'Uzbek', 'Bulgarian', 'Macedonian', 'Farsi (Persian)', 'Turkish',\n",
       "       'LANGUAGE UNDEFINED', 'Czech', 'Somali', 'Lithuanian', 'Croatian',\n",
       "       'Slovak', 'Icelandic', 'Slovenian', 'Japanese', 'Indonesian',\n",
       "       'Pushto', 'Hungarian', 'Finnish', 'Latvian', 'Portuguese',\n",
       "       'Danish', 'Swedish', 'Malay', 'Polish', 'Korean', 'Hebrew', 'Urdu',\n",
       "       'Kurdish', 'Hindi', 'Greek', 'Simplified Chinese', 'Thai',\n",
       "       'Bengali', 'Traditional Chinese', 'Gujarati', 'Kannada', 'Tamil',\n",
       "       'Telugu', 'Malayalam'], dtype=object)"
      ]
     },
     "execution_count": 78,
     "metadata": {},
     "output_type": "execute_result"
    }
   ],
   "source": [
    "df.language.unique()"
   ]
  },
  {
   "cell_type": "code",
   "execution_count": 94,
   "metadata": {},
   "outputs": [
    {
     "name": "stdout",
     "output_type": "stream",
     "text": [
      "region 36\n",
      "language 56\n"
     ]
    },
    {
     "name": "stderr",
     "output_type": "stream",
     "text": [
      "/Users/rhammond/anaconda3/lib/python3.6/site-packages/ipykernel_launcher.py:8: DeprecationWarning: elementwise != comparison failed; this will raise an error in the future.\n",
      "  \n"
     ]
    },
    {
     "name": "stdout",
     "output_type": "stream",
     "text": [
      "account_type 20\n",
      "account_category 8\n"
     ]
    },
    {
     "data": {
      "text/plain": [
       "(2973371, 122)"
      ]
     },
     "execution_count": 94,
     "metadata": {},
     "output_type": "execute_result"
    }
   ],
   "source": [
    "labels = []\n",
    "label_names = []\n",
    "cols = ['region','language','account_type','account_category']\n",
    "for col in cols:\n",
    "    x = pd.get_dummies(df[col].values, prefix='col_')\n",
    "    print(col, x.shape[1])\n",
    "    label_names += x.columns.tolist()\n",
    "    labels = np.hstack((labels, x.values)) if labels != [] else x.values\n",
    "    \n",
    "for col in ['post_type','retweet']:\n",
    "    x = df[col].values.reshape(-1,1)\n",
    "    label_names.append(col)\n",
    "    labels = np.hstack((labels, x))\n",
    "    \n",
    "labels.shape"
   ]
  },
  {
   "cell_type": "code",
   "execution_count": null,
   "metadata": {},
   "outputs": [],
   "source": [
    "https://github.com/bdhingra/tweet2vec\n",
    "https://github.com/fivethirtyeight/russian-troll-tweets/"
   ]
  }
 ],
 "metadata": {
  "kernelspec": {
   "display_name": "Python 3",
   "language": "python",
   "name": "python3"
  },
  "language_info": {
   "codemirror_mode": {
    "name": "ipython",
    "version": 3
   },
   "file_extension": ".py",
   "mimetype": "text/x-python",
   "name": "python",
   "nbconvert_exporter": "python",
   "pygments_lexer": "ipython3",
   "version": "3.6.4"
  }
 },
 "nbformat": 4,
 "nbformat_minor": 2
}
